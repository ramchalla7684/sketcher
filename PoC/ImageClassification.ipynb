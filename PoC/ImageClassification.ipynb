{
 "cells": [
  {
   "cell_type": "code",
   "execution_count": null,
   "metadata": {},
   "outputs": [],
   "source": [
    "import numpy\n",
    "from matplotlib import pyplot as plot\n",
    "from keras.models import Sequential\n",
    "from keras.layers import Conv2D, MaxPooling2D, Dropout, Dense, Flatten\n",
    "from keras.utils import to_categorical\n",
    "from keras.preprocessing import image\n",
    "from keras.preprocessing.image import ImageDataGenerator \n",
    "import pickle\n",
    "import h5py"
   ]
  },
  {
   "cell_type": "code",
   "execution_count": null,
   "metadata": {},
   "outputs": [],
   "source": [
    "image_size = (196, 196, 1)"
   ]
  },
  {
   "cell_type": "code",
   "execution_count": null,
   "metadata": {},
   "outputs": [],
   "source": [
    "hf = h5py.File(\"./data/train_data.h5\", \"r\")\n",
    "train_data = hf.get('data')\n",
    "train_labels_raw= hf.get('labels')\n",
    "# hf.close()\n",
    "\n",
    "hf = h5py.File(\"./data/test_data.h5\", \"r\")\n",
    "test_data = hf.get('data')\n",
    "test_labels_raw= hf.get('labels')\n",
    "# hf.close()"
   ]
  },
  {
   "cell_type": "code",
   "execution_count": null,
   "metadata": {},
   "outputs": [],
   "source": [
    "train_data = numpy.asarray(train_data, dtype='uint8')\n",
    "test_data = numpy.asarray(test_data, dtype='uint8')\n",
    "\n",
    "train_labels_raw = list(train_labels_raw)\n",
    "test_labels_raw = list(test_labels_raw)\n",
    "\n",
    "train_labels_raw = [s.decode('utf8').lower() for s in train_labels_raw]\n",
    "test_labels_raw = [s.decode('utf8').lower() for s in test_labels_raw]\n",
    "\n",
    "train_labels_raw = numpy.asarray(train_labels_raw)\n",
    "test_labels_raw = numpy.asarray(test_labels_raw)"
   ]
  },
  {
   "cell_type": "code",
   "execution_count": null,
   "metadata": {},
   "outputs": [],
   "source": [
    "from sklearn import preprocessing as skpreprocessing\n",
    "\n",
    "label_encoder = skpreprocessing.LabelEncoder()\n",
    "\n",
    "class_labels = numpy.append(train_labels_raw, test_labels_raw)\n",
    "label_encoder.fit(class_labels)\n",
    "classes = label_encoder.classes_\n",
    "n_classes = len(classes)\n",
    "\n",
    "print(classes)\n",
    "\n",
    "train_labels_0 = label_encoder.transform(train_labels_raw.tolist())\n",
    "test_labels_0 = label_encoder.transform(test_labels_raw.tolist())\n",
    "\n",
    "print(train_labels_0)\n",
    "print(test_labels_0)\n",
    "\n",
    "\n",
    "train_labels_raw.shape = (len(train_labels_raw), 1)\n",
    "test_labels_raw.shape=(len(test_labels_raw), 1)"
   ]
  },
  {
   "cell_type": "code",
   "execution_count": null,
   "metadata": {},
   "outputs": [],
   "source": [
    "print(\"Training data shape: \", train_data.shape, train_labels_raw.shape)\n",
    "print(\"Testing data shape: \", test_data.shape, test_labels_raw.shape)"
   ]
  },
  {
   "cell_type": "code",
   "execution_count": null,
   "metadata": {},
   "outputs": [],
   "source": [
    "plot.imshow(numpy.reshape(numpy.repeat(test_data[11], 3), (image_size[0], image_size[1], 3)), cmap='gray')\n",
    "plot.show()\n",
    "print(test_labels_raw[11])"
   ]
  },
  {
   "cell_type": "code",
   "execution_count": null,
   "metadata": {},
   "outputs": [],
   "source": [
    "train_data = train_data.astype('float32') #uint8 -> float32\n",
    "test_data = test_data.astype('float32')"
   ]
  },
  {
   "cell_type": "code",
   "execution_count": null,
   "metadata": {},
   "outputs": [],
   "source": [
    "train_data /= 255\n",
    "test_data /= 255"
   ]
  },
  {
   "cell_type": "code",
   "execution_count": null,
   "metadata": {},
   "outputs": [],
   "source": [
    "train_labels = to_categorical(train_labels_0)\n",
    "test_labels = to_categorical(test_labels_0)\n",
    "\n",
    "print(train_labels)"
   ]
  },
  {
   "cell_type": "code",
   "execution_count": null,
   "metadata": {},
   "outputs": [],
   "source": [
    "batch_size = 64\n",
    "epochs = 150"
   ]
  },
  {
   "cell_type": "code",
   "execution_count": null,
   "metadata": {},
   "outputs": [],
   "source": [
    "model1 = Sequential()\n",
    "model1.add(Conv2D(32, (3, 3), padding='same', activation='relu', input_shape=image_size))\n",
    "model1.add(Conv2D(32, (3, 3), activation='relu'))\n",
    "model1.add(MaxPooling2D(pool_size = (2, 2)))\n",
    "model1.add(Dropout(0.2))\n",
    "\n",
    "model1.add(Conv2D(64, (3, 3), padding='same', activation='relu'))\n",
    "model1.add(Conv2D(64, (3, 3), activation='relu'))\n",
    "model1.add(MaxPooling2D(pool_size = (2, 2)))\n",
    "model1.add(Dropout(0.2))\n",
    "\n",
    "model1.add(Conv2D(64, (3, 3), padding='same', activation='relu'))\n",
    "model1.add(Conv2D(64, (3, 3), activation='relu'))\n",
    "model1.add(MaxPooling2D(pool_size = (2, 2)))\n",
    "model1.add(Dropout(0.2))\n",
    "\n",
    "model1.add(Flatten())\n",
    "model1.add(Dense(512, activation='relu'))\n",
    "model1.add(Dropout(0.5))\n",
    "model1.add(Dense(n_classes, activation='softmax'))"
   ]
  },
  {
   "cell_type": "code",
   "execution_count": null,
   "metadata": {},
   "outputs": [],
   "source": [
    "model1.compile(optimizer='rmsprop', loss='categorical_crossentropy', metrics=['accuracy'])"
   ]
  },
  {
   "cell_type": "code",
   "execution_count": null,
   "metadata": {},
   "outputs": [],
   "source": [
    "history1 = model1.fit(train_data, train_labels, batch_size=batch_size, epochs=epochs, verbose=1, validation_data=(test_data, test_labels))\n",
    "model1.summary()"
   ]
  },
  {
   "cell_type": "code",
   "execution_count": null,
   "metadata": {},
   "outputs": [],
   "source": [
    "model1.evaluate(test_data, test_labels)"
   ]
  },
  {
   "cell_type": "code",
   "execution_count": null,
   "metadata": {},
   "outputs": [],
   "source": [
    "import pickle\n",
    "\n",
    "file = open(\"model1.pickle\", \"wb\")\n",
    "pickle.dump(model1, file)\n",
    "file.close()\n",
    "\n",
    "\n",
    "file = open(\"history1.pickle\", \"wb\")\n",
    "pickle.dump(history1, file)\n",
    "file.close()"
   ]
  },
  {
   "cell_type": "code",
   "execution_count": null,
   "metadata": {},
   "outputs": [],
   "source": [
    "import numpy\n",
    "from matplotlib import pyplot as plot\n",
    "from keras.models import Sequential\n",
    "from keras.layers import Conv2D, MaxPooling2D, Dropout, Dense, Flatten\n",
    "from keras.utils import to_categorical\n",
    "from keras.preprocessing import image\n",
    "from keras.preprocessing.image import ImageDataGenerator \n",
    "import pickle\n",
    "import h5py"
   ]
  },
  {
   "cell_type": "code",
   "execution_count": null,
   "metadata": {},
   "outputs": [],
   "source": [
    "import pickle\n",
    "\n",
    "file = open(\"model1.pickle\", \"rb\")\n",
    "model1 = pickle.load(file)\n",
    "file.close()\n",
    "\n",
    "file = open(\"history1.pickle\", \"rb\")\n",
    "history1 = pickle.load(file)\n",
    "file.close()"
   ]
  },
  {
   "cell_type": "code",
   "execution_count": null,
   "metadata": {},
   "outputs": [],
   "source": [
    "plot.figure(figsize=[8,6])\n",
    "plot.plot(history1.history['acc'], 'r', linewidth=3.0)\n",
    "plot.plot(history1.history['val_acc'], 'b', linewidth=3.0)\n",
    "plot.legend(['Training Accuracy', 'Validation Accuracy'], fontsize=18.0)\n",
    "plot.xlabel('Epochs', fontsize=16.0)\n",
    "plot.ylabel('Accuracy', fontsize=16)\n",
    "plot.title('Accuracy Curves', fontsize=16.0)\n",
    "plot.show()"
   ]
  },
  {
   "cell_type": "code",
   "execution_count": null,
   "metadata": {},
   "outputs": [],
   "source": [
    "plot.figure(figsize=[8,6])\n",
    "plot.plot(history1.history['loss'], 'r', linewidth=3.0)\n",
    "plot.plot(history1.history['val_loss'], 'b', linewidth=3.0)\n",
    "plot.legend(['Training Loss', 'Validation Loss'], fontsize=18.0)\n",
    "plot.xlabel('Epochs', fontsize=16.0)\n",
    "plot.ylabel('Loss', fontsize=16)\n",
    "plot.title('Loss Curves', fontsize=16.0)\n",
    "plot.show()"
   ]
  },
  {
   "cell_type": "code",
   "execution_count": null,
   "metadata": {},
   "outputs": [],
   "source": [
    "img = image.load_img(\"./images/unprocessed/anchor/image_0001.jpg\", target_size=(196, 196))\n",
    "img_data = image.img_to_array(img)\n",
    "\n",
    "x = model1.predict_classes(numpy.expand_dims(img_data, axis=0))\n",
    "print(sorted(classes)[x[0]])"
   ]
  }
 ],
 "metadata": {
  "kernelspec": {
   "display_name": "Python 3",
   "language": "python",
   "name": "python3"
  },
  "language_info": {
   "codemirror_mode": {
    "name": "ipython",
    "version": 3
   },
   "file_extension": ".py",
   "mimetype": "text/x-python",
   "name": "python",
   "nbconvert_exporter": "python",
   "pygments_lexer": "ipython3",
   "version": "3.8.1"
  }
 },
 "nbformat": 4,
 "nbformat_minor": 2
}
