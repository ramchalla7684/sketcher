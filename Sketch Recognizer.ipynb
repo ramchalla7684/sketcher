{
 "cells": [
  {
   "cell_type": "code",
   "execution_count": null,
   "metadata": {},
   "outputs": [],
   "source": [
    "import os\n",
    "import sys\n",
    "import numpy\n",
    "from matplotlib import pyplot as plot\n",
    "from sklearn.neighbors import NearestNeighbors\n",
    "\n",
    "sys.path.append('./lib/caffe/python/')\n",
    "import caffe"
   ]
  },
  {
   "cell_type": "code",
   "execution_count": null,
   "metadata": {},
   "outputs": [],
   "source": [
    "caffe.set_mode_gpu()"
   ]
  },
  {
   "cell_type": "code",
   "execution_count": null,
   "metadata": {},
   "outputs": [],
   "source": [
    "sketch_net = caffe.Net('./lib/caffe/models/triplet_googlenet/triplet_googlenet_sketch_deploy.prototxt', \n",
    "                       './lib/caffe/models/triplet_googlenet/triplet_googlenet_finegrain.caffemodel',\n",
    "                       caffe.TEST)"
   ]
  },
  {
   "cell_type": "code",
   "execution_count": null,
   "metadata": {},
   "outputs": [],
   "source": [
    "transformer = caffe.io.Transformer({'data': numpy.shape(sketch_net.blobs['data'].data)})"
   ]
  },
  {
   "cell_type": "code",
   "execution_count": null,
   "metadata": {},
   "outputs": [],
   "source": [
    "transformer.set_mean('data', numpy.load('./lib/caffe/python/caffe/imagenet/ilsvrc_2012_mean.npy').mean(1).mean(1))\n",
    "transformer.set_transpose('data', (2, 0, 1))\n",
    "transformer.set_channel_swap('data', (2, 1, 0))\n",
    "transformer.set_raw_scale('data', 255.0)"
   ]
  },
  {
   "cell_type": "code",
   "execution_count": null,
   "metadata": {},
   "outputs": [],
   "source": [
    "print(os.listdir('./images/sketch/'))\n",
    "sketch_path = './images/sketch/' + input(\"Sketch name: \")\n",
    "sketch = transformer.preprocess('data', caffe.io.load_image(sketch_path))\n",
    "sketch_reshaped = numpy.reshape(sketch, sketch_net.blobs['data'].data.shape)\n",
    "\n",
    "features_sketch_all_layers = sketch_net.forward(data=sketch_reshaped)\n",
    "features_sketch_output_layer = numpy.copy(features_sketch_all_layers['pool5/7x7_s1_s'])\n",
    "\n",
    "# print(features_sketch_all_layers)\n",
    "# print(numpy.shape(features_sketch_output_layer))"
   ]
  },
  {
   "cell_type": "code",
   "execution_count": null,
   "metadata": {},
   "outputs": [],
   "source": [
    "features = numpy.load('./data/features.npy')\n",
    "images = numpy.load('./data/images.npy')"
   ]
  },
  {
   "cell_type": "code",
   "execution_count": null,
   "metadata": {},
   "outputs": [],
   "source": [
    "k = 3\n",
    "neighbors = NearestNeighbors(\n",
    "    n_neighbors=k, \n",
    "    algorithm='brute', \n",
    "    metric='cosine'\n",
    ").fit(features)\n",
    "print(neighbors)"
   ]
  },
  {
   "cell_type": "code",
   "execution_count": null,
   "metadata": {},
   "outputs": [],
   "source": [
    "distances, indices = neighbors.kneighbors(numpy.reshape(features_sketch_output_layer, [numpy.shape(features_sketch_output_layer)[1]]).reshape(1, -1))\n",
    "\n",
    "# print(numpy.shape(features_sketch_output_layer))\n",
    "# print(numpy.reshape(features_sketch_output_layer, [numpy.shape(features_sketch_output_layer)[1]]).reshape(1, -1))"
   ]
  },
  {
   "cell_type": "code",
   "execution_count": null,
   "metadata": {},
   "outputs": [],
   "source": [
    "figure = plot.figure(0)\n",
    "plot.imshow(plot.imread(sketch_path))\n",
    "plot.show()\n",
    "\n",
    "for i in range(k):\n",
    "    plot.figure(i+1)\n",
    "    img = plot.imread(\"./images/archive/\" + images[indices[0][i]])\n",
    "    plot.imshow(img)\n",
    "    plot.show()"
   ]
  },
  {
   "cell_type": "code",
   "execution_count": null,
   "metadata": {},
   "outputs": [],
   "source": []
  }
 ],
 "metadata": {
  "kernelspec": {
   "display_name": "Python 3",
   "language": "python",
   "name": "python3"
  },
  "language_info": {
   "codemirror_mode": {
    "name": "ipython",
    "version": 3
   },
   "file_extension": ".py",
   "mimetype": "text/x-python",
   "name": "python",
   "nbconvert_exporter": "python",
   "pygments_lexer": "ipython3",
   "version": "3.8.1"
  }
 },
 "nbformat": 4,
 "nbformat_minor": 2
}
