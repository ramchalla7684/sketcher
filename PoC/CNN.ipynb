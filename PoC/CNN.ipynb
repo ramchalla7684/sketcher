{
 "cells": [
  {
   "cell_type": "code",
   "execution_count": null,
   "metadata": {},
   "outputs": [],
   "source": [
    "import numpy\n",
    "from matplotlib import pyplot as plot\n",
    "from keras.models import Sequential\n",
    "from keras.layers import Conv2D, MaxPooling2D, Dropout, Dense, Flatten\n",
    "from keras.utils import to_categorical"
   ]
  },
  {
   "cell_type": "code",
   "execution_count": null,
   "metadata": {},
   "outputs": [],
   "source": [
    "from keras.datasets import cifar10\n",
    "(train_data_raw, train_labels_raw), (test_data_raw, test_labels_raw) = cifar10.load_data()"
   ]
  },
  {
   "cell_type": "code",
   "execution_count": null,
   "metadata": {},
   "outputs": [],
   "source": [
    "print(\"Training data shape: \", train_data_raw.shape, train_labels_raw.shape)\n",
    "print(\"Testing data shape: \", test_data_raw.shape, test_labels_raw.shape)"
   ]
  },
  {
   "cell_type": "code",
   "execution_count": null,
   "metadata": {},
   "outputs": [],
   "source": [
    "plot.figure(figsize=[4, 2])\n",
    "\n",
    "plot.subplot(121)\n",
    "plot.imshow(train_data_raw[0,:,:], cmap='gray')\n",
    "plot.title=(\"Ground Truth: {}\".format(train_labels_raw[0]))\n",
    "\n",
    "plot.subplot(122)\n",
    "plot.imshow(test_data_raw[0,:,:], cmap='gray')\n",
    "plot.title=(\"Ground Truth: {}\".format(test_labels_raw[0]))"
   ]
  },
  {
   "cell_type": "code",
   "execution_count": null,
   "metadata": {},
   "outputs": [],
   "source": [
    "classes = numpy.unique(train_labels_raw)\n",
    "print(\"Classes: \", classes)"
   ]
  },
  {
   "cell_type": "code",
   "execution_count": null,
   "metadata": {},
   "outputs": [],
   "source": [
    "n_classes = len(classes)\n",
    "n_rows, n_cols, n_dimens = train_data_raw.shape[1:]\n",
    "input_shape = (n_rows, n_cols, n_dimens)"
   ]
  },
  {
   "cell_type": "code",
   "execution_count": null,
   "metadata": {},
   "outputs": [],
   "source": [
    "train_data = train_data_raw.reshape(train_data_raw.shape[0], n_rows, n_cols, n_dimens)\n",
    "test_data = test_data_raw.reshape(test_data_raw.shape[0], n_rows, n_cols, n_dimens)\n",
    "\n",
    "train_data = train_data.astype('float32') #unit8 -> float32\n",
    "test_data = test_data.astype('float32')"
   ]
  },
  {
   "cell_type": "code",
   "execution_count": null,
   "metadata": {},
   "outputs": [],
   "source": [
    "train_data /= 255\n",
    "test_data /= 255"
   ]
  },
  {
   "cell_type": "code",
   "execution_count": null,
   "metadata": {},
   "outputs": [],
   "source": [
    "train_labels = to_categorical(train_labels_raw)\n",
    "test_labels = to_categorical(test_labels_raw)"
   ]
  },
  {
   "cell_type": "code",
   "execution_count": null,
   "metadata": {},
   "outputs": [],
   "source": [
    "batch_size = 256\n",
    "epochs = 50"
   ]
  },
  {
   "cell_type": "code",
   "execution_count": null,
   "metadata": {},
   "outputs": [],
   "source": [
    "model = Sequential()\n",
    "model.add(Conv2D(32, (3, 3), padding='same', activation='relu', input_shape=input_shape))\n",
    "model.add(Conv2D(32, (3, 3), activation='relu'))\n",
    "model.add(MaxPooling2D(pool_size = (2, 2)))\n",
    "model.add(Dropout(0.25))\n",
    "\n",
    "model.add(Conv2D(64, (3, 3), padding='same', activation='relu'))\n",
    "model.add(Conv2D(64, (3, 3), activation='relu'))\n",
    "model.add(MaxPooling2D(pool_size = (2, 2)))\n",
    "model.add(Dropout(0.25))\n",
    "\n",
    "model.add(Conv2D(64, (3, 3), padding='same', activation='relu'))\n",
    "model.add(Conv2D(64, (3, 3), activation='relu'))\n",
    "model.add(MaxPooling2D(pool_size = (2, 2)))\n",
    "model.add(Dropout(0.25))\n",
    "\n",
    "model.add(Flatten())\n",
    "model.add(Dense(512, activation='relu'))\n",
    "model.add(Dropout(0.5))\n",
    "model.add(Dense(n_classes, activation='softmax'))"
   ]
  },
  {
   "cell_type": "code",
   "execution_count": null,
   "metadata": {},
   "outputs": [],
   "source": [
    "model.compile(optimizer='rmsprop', loss='categorical_crossentropy', metrics=['accuracy'])"
   ]
  },
  {
   "cell_type": "code",
   "execution_count": null,
   "metadata": {},
   "outputs": [],
   "source": [
    "history = model.fit(train_data, train_labels, batch_size=batch_size, epochs=epochs, validation_data=(test_data, test_labels))\n",
    "model.summary()"
   ]
  },
  {
   "cell_type": "code",
   "execution_count": null,
   "metadata": {},
   "outputs": [],
   "source": [
    "model.evaluate(test_data, test_labels)"
   ]
  },
  {
   "cell_type": "code",
   "execution_count": null,
   "metadata": {},
   "outputs": [],
   "source": [
    "import pickle\n",
    "\n",
    "file = open(\"model.pickle\", \"wb\")\n",
    "pickle.dump(model, file)\n",
    "file.close()\n",
    "\n",
    "\n",
    "file = open(\"history.pickle\", \"wb\")\n",
    "pickle.dump(history, file)\n",
    "file.close()"
   ]
  },
  {
   "cell_type": "code",
   "execution_count": null,
   "metadata": {},
   "outputs": [],
   "source": [
    "import pickle\n",
    "\n",
    "file = open(\"model.pickle\", \"rb\")\n",
    "model = pickle.load(file)\n",
    "file.close()\n",
    "\n",
    "file = open(\"history.pickle\", \"rb\")\n",
    "history = pickle.load(file)\n",
    "file.close()"
   ]
  },
  {
   "cell_type": "code",
   "execution_count": null,
   "metadata": {},
   "outputs": [],
   "source": [
    "plot.figure(figsize=[8,6])\n",
    "plot.plot(history.history['acc'], 'r', linewidth=3.0)\n",
    "plot.plot(history.history['val_acc'], 'b', linewidth=3.0)\n",
    "plot.legend(['Training Accuracy', 'Validation Accuracy'], fontsize=18.0)\n",
    "plot.xlabel('Epochs', fontsize=16.0)\n",
    "plot.ylabel('Accuracy', fontsize=16)\n",
    "plot.title('Accuracy Curves', fontsize=16.0)\n",
    "plot.show()"
   ]
  },
  {
   "cell_type": "code",
   "execution_count": null,
   "metadata": {},
   "outputs": [],
   "source": [
    "plot.figure(figsize=[8,6])\n",
    "plot.plot(history.history['loss'], 'r', linewidth=3.0)\n",
    "plot.plot(history.history['val_loss'], 'b', linewidth=3.0)\n",
    "plot.legend(['Training Loss', 'Validation Loss'], fontsize=18.0)\n",
    "plot.xlabel('Epochs', fontsize=16.0)\n",
    "plot.ylabel('Loss', fontsize=16)\n",
    "plot.title('Loss Curves', fontsize=16.0)\n",
    "plot.show()"
   ]
  },
  {
   "cell_type": "code",
   "execution_count": null,
   "metadata": {},
   "outputs": [],
   "source": [
    "from keras.preprocessing.image import ImageDataGenerator"
   ]
  },
  {
   "cell_type": "code",
   "execution_count": null,
   "metadata": {
    "scrolled": false
   },
   "outputs": [],
   "source": [
    "model2 = Sequential()\n",
    "model2.add(Conv2D(32, (3, 3), padding='same', activation='relu', input_shape=input_shape))\n",
    "model2.add(Conv2D(32, (3, 3), activation='relu'))\n",
    "model2.add(MaxPooling2D(pool_size = (2, 2)))\n",
    "model2.add(Dropout(0.25))\n",
    "\n",
    "model2.add(Conv2D(64, (3, 3), padding='same', activation='relu'))\n",
    "model2.add(Conv2D(64, (3, 3), activation='relu'))\n",
    "model2.add(MaxPooling2D(pool_size = (2, 2)))\n",
    "model2.add(Dropout(0.25))\n",
    "\n",
    "model2.add(Conv2D(64, (3, 3), padding='same', activation='relu'))\n",
    "model2.add(Conv2D(64, (3, 3), activation='relu'))\n",
    "model2.add(MaxPooling2D(pool_size = (2, 2)))\n",
    "model2.add(Dropout(0.25))\n",
    "\n",
    "model2.add(Flatten())\n",
    "model2.add(Dense(512, activation='relu'))\n",
    "model2.add(Dropout(0.5))\n",
    "model2.add(Dense(n_classes, activation='softmax'))\n",
    "\n",
    "model2.compile(optimizer='rmsprop', loss='categorical_crossentropy', metrics=['accuracy'])\n",
    "\n",
    "data_generator = ImageDataGenerator(\n",
    "    rotation_range = 10.0,\n",
    "    width_shift_range = 0.1,\n",
    "    height_shift_range = 0.1,\n",
    "    shear_range = 0.0,\n",
    "    zoom_range = 0.1,\n",
    "    horizontal_flip=True,\n",
    "    vertical_flip=True)\n",
    "\n",
    "history2 = model2.fit_generator(\n",
    "    data_generator.flow(\n",
    "        train_data, \n",
    "        train_labels, \n",
    "        batch_size=batch_size\n",
    "    ), \n",
    "    epochs=epochs, \n",
    "    validation_data=(test_data, test_labels),\n",
    "    steps_per_epoch=int(numpy.ceil(train_data.shape[0]/float(batch_size))), \n",
    "    workers=4\n",
    ")\n",
    "\n",
    "model2.summary()"
   ]
  },
  {
   "cell_type": "code",
   "execution_count": null,
   "metadata": {},
   "outputs": [],
   "source": [
    "model2.evaluate(test_data, test_labels)"
   ]
  },
  {
   "cell_type": "code",
   "execution_count": null,
   "metadata": {},
   "outputs": [],
   "source": [
    "import pickle\n",
    "\n",
    "file = open(\"model2.pickle\", \"wb\")\n",
    "pickle.dump(model2, file)\n",
    "file.close()\n",
    "\n",
    "file = open(\"history2.pickle\", \"wb\")\n",
    "pickle.dump(history2, file)\n",
    "file.close()"
   ]
  },
  {
   "cell_type": "code",
   "execution_count": null,
   "metadata": {},
   "outputs": [],
   "source": [
    "import pickle\n",
    "\n",
    "file = open(\"model2.pickle\", \"rb\")\n",
    "model2 = pickle.load(file)\n",
    "file.close()\n",
    "\n",
    "file = open(\"history2.pickle\", \"rb\")\n",
    "history2 = pickle.load(file)\n",
    "file.close()"
   ]
  },
  {
   "cell_type": "code",
   "execution_count": null,
   "metadata": {},
   "outputs": [],
   "source": [
    "plot.figure(figsize=[8,6])\n",
    "plot.plot(history2.history['acc'], 'r', linewidth=3.0)\n",
    "plot.plot(history2.history['val_acc'], 'b', linewidth=3.0)\n",
    "plot.legend(['Training Accuracy', 'Validation Accuracy'], fontsize=18.0)\n",
    "plot.xlabel('Epochs', fontsize=16.0)\n",
    "plot.ylabel('Accuracy', fontsize=16)\n",
    "plot.title('Accuracy Curves', fontsize=16.0)\n",
    "plot.show()"
   ]
  },
  {
   "cell_type": "code",
   "execution_count": null,
   "metadata": {},
   "outputs": [],
   "source": [
    "plot.figure(figsize=[8,6])\n",
    "plot.plot(history2.history['loss'], 'r', linewidth=3.0)\n",
    "plot.plot(history2.history['val_loss'], 'b', linewidth=3.0)\n",
    "plot.legend(['Training Loss', 'Validation Loss'], fontsize=18.0)\n",
    "plot.xlabel('Epochs', fontsize=16.0)\n",
    "plot.ylabel('Loss', fontsize=16)\n",
    "plot.title('Loss Curves', fontsize=16.0)\n",
    "plot.show()"
   ]
  },
  {
   "cell_type": "code",
   "execution_count": null,
   "metadata": {},
   "outputs": [],
   "source": [
    "model.predict(numpy.expand_dims(test_data[0], axis=0))\n",
    "model.predict_classes(numpy.expand_dims(test_data[0], axis=0))"
   ]
  },
  {
   "cell_type": "code",
   "execution_count": null,
   "metadata": {},
   "outputs": [],
   "source": [
    "test_labels[0]"
   ]
  },
  {
   "cell_type": "code",
   "execution_count": null,
   "metadata": {},
   "outputs": [],
   "source": [
    "from keras.preprocessing import image\n",
    "import cv2"
   ]
  },
  {
   "cell_type": "code",
   "execution_count": null,
   "metadata": {},
   "outputs": [],
   "source": [
    "img = image.load_img(\"./images/dog1.jpeg\", target_size=(32, 32))\n",
    "img_data = image.img_to_array(img)\n",
    "\n",
    "model.predict_classes(numpy.expand_dims(img_data, axis=0))"
   ]
  },
  {
   "cell_type": "code",
   "execution_count": null,
   "metadata": {},
   "outputs": [],
   "source": [
    "import scipy.ndimage\n",
    "\n",
    "def dodge_merge(front, rear):\n",
    "    res = front * 255 / (255 - rear)\n",
    "    res[res > 255] = 255\n",
    "    res[rear==255] = 255\n",
    "    return res.astype('uint8')\n",
    "\n",
    "img = image.load_img(\"./images/car1.jpeg\", target_size=(256, 256))\n",
    "\n",
    "img_data = image.img_to_array(img)\n",
    "gray_img = numpy.dot(test_data[0], [0.299, 0.587, 0.114])\n",
    "inverted_gray_img = 255 - gray_img\n",
    "\n",
    "blur_image = scipy.ndimage.filters.gaussian_filter(\n",
    "    inverted_gray_img, \n",
    "    sigma=100\n",
    ")\n",
    "\n",
    "sketch = dodge_merge(blur_image, gray_img)\n",
    "\n",
    "plot.imshow(img, cmap='gray')\n",
    "plot.title=(\"Ground Truth: {}\".format(test_labels_raw[0]))"
   ]
  },
  {
   "cell_type": "code",
   "execution_count": null,
   "metadata": {},
   "outputs": [],
   "source": []
  }
 ],
 "metadata": {
  "kernelspec": {
   "display_name": "Python 3",
   "language": "python",
   "name": "python3"
  },
  "language_info": {
   "codemirror_mode": {
    "name": "ipython",
    "version": 3
   },
   "file_extension": ".py",
   "mimetype": "text/x-python",
   "name": "python",
   "nbconvert_exporter": "python",
   "pygments_lexer": "ipython3",
   "version": "3.8.1"
  }
 },
 "nbformat": 4,
 "nbformat_minor": 2
}
