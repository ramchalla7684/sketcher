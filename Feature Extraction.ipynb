{
 "cells": [
  {
   "cell_type": "code",
   "execution_count": null,
   "metadata": {},
   "outputs": [],
   "source": [
    "import os\n",
    "import sys\n",
    "import numpy\n",
    "\n",
    "sys.path.append('./lib/caffe/python/')\n",
    "import caffe"
   ]
  },
  {
   "cell_type": "code",
   "execution_count": null,
   "metadata": {},
   "outputs": [],
   "source": [
    "caffe.set_mode_gpu()"
   ]
  },
  {
   "cell_type": "code",
   "execution_count": null,
   "metadata": {},
   "outputs": [],
   "source": [
    "image_net = caffe.Net('./lib/caffe/models/triplet_googlenet/triplet_googlenet_image_deploy.prototxt', \n",
    "                      './lib/caffe/models/triplet_googlenet/triplet_googlenet_finegrain.caffemodel',\n",
    "                      caffe.TEST)"
   ]
  },
  {
   "cell_type": "code",
   "execution_count": null,
   "metadata": {},
   "outputs": [],
   "source": [
    "transformer = caffe.io.Transformer({'data': numpy.shape(image_net.blobs['data'].data)})"
   ]
  },
  {
   "cell_type": "code",
   "execution_count": null,
   "metadata": {},
   "outputs": [],
   "source": [
    "transformer.set_mean('data', numpy.load('./lib/caffe/python/caffe/imagenet/ilsvrc_2012_mean.npy').mean(1).mean(1))\n",
    "transformer.set_transpose('data', (2, 0, 1))\n",
    "transformer.set_channel_swap('data', (2, 1, 0))\n",
    "transformer.set_raw_scale('data', 255.0)"
   ]
  },
  {
   "cell_type": "code",
   "execution_count": null,
   "metadata": {},
   "outputs": [],
   "source": [
    "images_path = './images/archive'\n",
    "images = os.listdir(images_path)\n",
    "print(\"Number of images: {}\".format(len(images)))\n",
    "print(images)"
   ]
  },
  {
   "cell_type": "code",
   "execution_count": null,
   "metadata": {},
   "outputs": [],
   "source": [
    "features = []\n",
    "for i, file_name in enumerate(images):\n",
    "    if !filename.endswith(\".png\") && !filename.endswith(\".jpeg\"):\n",
    "        continue\n",
    "        \n",
    "    print(\"Processing: {0}/{1}\".format(i+1, len(images)))\n",
    "    try:\n",
    "        img = transformer.preprocess('data', caffe.io.load_image(images_path + \"/\" + file_name))\n",
    "    except:\n",
    "        print(\"Cannot load \" + images_path + \"/\" + file_name + \" as an image\")\n",
    "        continue\n",
    "#     print(img.shape)\n",
    "    img_reshaped = numpy.reshape(img, image_net.blobs['data'].data.shape)\n",
    "#     print(img_reshaped.shape)\n",
    "    features_image_all_layes = image_net.forward(data=img_reshaped)\n",
    "#     print(features_image_all_layes)\n",
    "    features_image_output_layer = numpy.copy(features_image_all_layes['pool5/7x7_s1_p'])\n",
    "#     print(features_image_output_layer)\n",
    "    features.append(features_image_output_layer)\n",
    "# print(numpy.shape(features))\n",
    "shape_features = numpy.shape(features)\n",
    "features = numpy.reshape(features, ([shape_features[0], shape_features[2]]))\n",
    "# print(features.shape)"
   ]
  },
  {
   "cell_type": "code",
   "execution_count": null,
   "metadata": {},
   "outputs": [],
   "source": [
    "numpy.save('./data/images.npy', images)\n",
    "numpy.save('./data/features.npy', features)"
   ]
  },
  {
   "cell_type": "code",
   "execution_count": null,
   "metadata": {},
   "outputs": [],
   "source": [
    "numpy.load('./data/features.npy').shape"
   ]
  },
  {
   "cell_type": "code",
   "execution_count": null,
   "metadata": {},
   "outputs": [],
   "source": []
  }
 ],
 "metadata": {
  "kernelspec": {
   "display_name": "Python 3",
   "language": "python",
   "name": "python3"
  },
  "language_info": {
   "codemirror_mode": {
    "name": "ipython",
    "version": 3
   },
   "file_extension": ".py",
   "mimetype": "text/x-python",
   "name": "python",
   "nbconvert_exporter": "python",
   "pygments_lexer": "ipython3",
   "version": "3.8.1"
  }
 },
 "nbformat": 4,
 "nbformat_minor": 2
}
