{
 "cells": [
  {
   "cell_type": "code",
   "execution_count": null,
   "metadata": {},
   "outputs": [],
   "source": [
    "import numpy\n",
    "import pickle\n",
    "import os\n",
    "from keras.preprocessing import image\n",
    "import h5py"
   ]
  },
  {
   "cell_type": "code",
   "execution_count": null,
   "metadata": {},
   "outputs": [],
   "source": [
    "train_data = []\n",
    "test_data = []\n",
    "\n",
    "path = \"./images/unprocessed\"\n",
    "for dir in os.listdir(path):\n",
    "    if(dir[0] is not \"_\"):\n",
    "        data = []\n",
    "        files = os.listdir(path+\"/\"+dir)\n",
    "        for file in files:\n",
    "            data.append((path+\"/\"+dir+\"/\"+file, dir))\n",
    "        numpy.random.shuffle(data)\n",
    "        size = int(numpy.round(8 * len(files) / 10))\n",
    "        train_data.extend(data[0:size])\n",
    "        test_data.extend(data[size:len(files)])\n",
    "train_data = numpy.asarray(train_data)\n",
    "test_data = numpy.asarray(test_data)\n",
    "\n",
    "print(train_data)\n",
    "print(train_data.shape)\n",
    "print(test_data)\n",
    "print(test_data.shape)"
   ]
  },
  {
   "cell_type": "code",
   "execution_count": null,
   "metadata": {},
   "outputs": [],
   "source": [
    "file = open(\"train_meta.pickle\", \"wb\")\n",
    "pickle.dump(train_data, file)\n",
    "file.close()\n",
    "\n",
    "file = open(\"test_meta.pickle\", \"wb\")\n",
    "pickle.dump(test_data, file)\n",
    "file.close()"
   ]
  },
  {
   "cell_type": "code",
   "execution_count": null,
   "metadata": {},
   "outputs": [],
   "source": [
    "image_size = (196, 196, 1)"
   ]
  },
  {
   "cell_type": "code",
   "execution_count": null,
   "metadata": {},
   "outputs": [],
   "source": [
    "file = open(\"train_meta.pickle\", \"rb\")\n",
    "train_data_raw = pickle.load(file)\n",
    "file.close()\n",
    "    \n",
    "train_data_raw_temp = []\n",
    "train_labels_raw_temp = []\n",
    "\n",
    "i = 0\n",
    "for data in train_data_raw:\n",
    "    img = image.load_img(data[0], target_size=(image_size[0], image_size[1]))\n",
    "    img = image.img_to_array(img, dtype='uint8')\n",
    "    img_single_channel = img[:,:,:1]\n",
    "    train_data_raw_temp.append(img_single_channel)\n",
    "    train_labels_raw_temp.append(data[1])\n",
    "\n",
    "    i += 1\n",
    "    print(\"Processed: {0}/{1}\".format(i, len(train_data_raw)))\n",
    "\n",
    "train_labels_raw_temp = [s.encode('utf8') for s in train_labels_raw_temp]\n",
    "\n",
    "print(\"Saving\")\n",
    "hf = h5py.File(\"./data/train_data.h5\", \"w\")\n",
    "hf.create_dataset(\"data\", data=train_data_raw_temp)\n",
    "hf.create_dataset(\"labels\", data=train_labels_raw_temp)\n",
    "hf.close()\n",
    "print(\"Done\")"
   ]
  },
  {
   "cell_type": "code",
   "execution_count": null,
   "metadata": {},
   "outputs": [],
   "source": [
    "file = open(\"test_meta.pickle\", \"rb\")\n",
    "test_data_raw = pickle.load(file)\n",
    "file.close()\n",
    "    \n",
    "test_data_raw_temp = []\n",
    "test_labels_raw_temp = []\n",
    "\n",
    "\n",
    "i = 0\n",
    "for data in test_data_raw:\n",
    "    img = image.load_img(data[0], target_size=(image_size[0], image_size[1]))\n",
    "    img = image.img_to_array(img, dtype='uint8')\n",
    "    img_single_channel = img[:,:,:1]\n",
    "    test_data_raw_temp.append(img_single_channel)\n",
    "    test_labels_raw_temp.append(data[1])\n",
    "\n",
    "    i += 1\n",
    "    print(\"Processed: {0}/{1}\".format(i, len(test_data_raw)))\n",
    "\n",
    "test_labels_raw_temp = [s.encode('utf8') for s in test_labels_raw_temp]\n",
    "\n",
    "print(\"Saving\")\n",
    "hf = h5py.File(\"./data/test_data.h5\", \"w\")\n",
    "hf.create_dataset(\"data\", data=test_data_raw_temp)\n",
    "hf.create_dataset(\"labels\", data=test_labels_raw_temp)\n",
    "hf.close()\n",
    "print(\"Done\")"
   ]
  },
  {
   "cell_type": "code",
   "execution_count": null,
   "metadata": {},
   "outputs": [],
   "source": []
  }
 ],
 "metadata": {
  "kernelspec": {
   "display_name": "Python 3",
   "language": "python",
   "name": "python3"
  },
  "language_info": {
   "codemirror_mode": {
    "name": "ipython",
    "version": 3
   },
   "file_extension": ".py",
   "mimetype": "text/x-python",
   "name": "python",
   "nbconvert_exporter": "python",
   "pygments_lexer": "ipython3",
   "version": "3.8.1"
  }
 },
 "nbformat": 4,
 "nbformat_minor": 2
}
